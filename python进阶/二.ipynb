{
 "cells": [
  {
   "cell_type": "markdown",
   "metadata": {},
   "source": [
    "### 建立由列表组成的列表"
   ]
  },
  {
   "cell_type": "markdown",
   "metadata": {},
   "source": [
    "在使用*要注意，可能生成的元素是指向同一个对象的，例如下面这个代码："
   ]
  },
  {
   "cell_type": "markdown",
   "metadata": {},
   "source": [
    "这个代码是错误的\n",
    "```\n",
    ">>> weird_board = [['_'] * 3] * 3  \n",
    ">>> weird_board [['_', '_', '_'], ['_', '_', '_'], ['_', '_', '_']] \n",
    ">>> weird_board[1][2] = 'O' \n",
    ">>> weird_board [['_', '_', 'O'], ['_', '_', 'O'], ['_', '_', 'O']]\n",
    "```\n",
    "这其实相当于：\n",
    "```\n",
    "row=['_'] * 3 \n",
    "board = [] \n",
    "for i in range(3):    \n",
    "    board.append(row)\n",
    "```"
   ]
  },
  {
   "cell_type": "markdown",
   "metadata": {},
   "source": [
    "可以采用列表表达式的方式进行，如以下代码所示："
   ]
  },
  {
   "cell_type": "markdown",
   "metadata": {},
   "source": [
    "```\n",
    ">>> board = [['_'] * 3 for i in range(3)]\n",
    ">>> board [['_', '_', '_'], ['_', '_', '_'], ['_', '_', '_']] \n",
    ">>> board[1][2] = 'X' \n",
    ">>> board [['_', '_', '_'], ['_', '_', 'X'], ['_', '_', '_']]\n",
    "```\n",
    "这相当于：\n",
    "```\n",
    ">>> board = [] \n",
    ">>> for i in range(3): \n",
    "...     row=['_'] * 3 \n",
    "...     board.append(row)\n",
    "```"
   ]
  },
  {
   "cell_type": "markdown",
   "metadata": {},
   "source": [
    "### 序列的增量赋值\n",
    "#### 先来看一下 += 和 不使用 += 对于被赋值的变量有什么影响"
   ]
  },
  {
   "cell_type": "code",
   "execution_count": 8,
   "metadata": {},
   "outputs": [
    {
     "name": "stdout",
     "output_type": "stream",
     "text": [
      "1969990813192\n",
      "1969990814984\n",
      "1969990054920\n"
     ]
    }
   ],
   "source": [
    "a = [1, 2, 3, 5]\n",
    "print(id(a))\n",
    "b = [13, 4, 5]\n",
    "print(id(b))\n",
    "a = a + b\n",
    "print(id(a))    # 从这里可以看出在可变序列中，使用a+b，python会将a和b加起来后新建出来的对象在赋值为a， a的内存地址改变了"
   ]
  },
  {
   "cell_type": "code",
   "execution_count": 13,
   "metadata": {},
   "outputs": [
    {
     "name": "stdout",
     "output_type": "stream",
     "text": [
      "1969990054536\n",
      "1969990811912\n",
      "1969990054536\n"
     ]
    }
   ],
   "source": [
    "a = [1, 2, 3, 5]\n",
    "print(id(a))\n",
    "b = [13, 4, 5]\n",
    "print(id(b))\n",
    "a += b\n",
    "print(id(a)) # 跟上面一样同样是采用了可变序列， 但是使用 += 并不会使得a的地址发生改变，也就是b是拼在了a的后面，相当于a.extend(b)"
   ]
  },
  {
   "cell_type": "code",
   "execution_count": 19,
   "metadata": {},
   "outputs": [
    {
     "name": "stdout",
     "output_type": "stream",
     "text": [
      "1969990036432\n",
      "1969989929288\n",
      "(1, 2, 3, 2, 3, 4)\n"
     ]
    }
   ],
   "source": [
    "a = (1,2,3)\n",
    "print(id(a))\n",
    "b = (2, 3, 4)\n",
    "a += b\n",
    "print(id(a))\n",
    "print(a)"
   ]
  },
  {
   "cell_type": "markdown",
   "metadata": {},
   "source": [
    "这种就地加法是因为内置的序列实现了`__iadd__()`方法，可变序列一般都支持这个方法，而退一步说如果内部没有实现系统会退一步实现`__add__()`,而对于元组来说，这种不可变序列根本不支持`__iadd__()`操作，所以会退而执行`__add__()`，所以我们看到当`a += b后a的地址发生了变化。"
   ]
  },
  {
   "cell_type": "markdown",
   "metadata": {},
   "source": []
  }
 ],
 "metadata": {
  "kernelspec": {
   "display_name": "Python 3",
   "language": "python",
   "name": "python3"
  },
  "language_info": {
   "codemirror_mode": {
    "name": "ipython",
    "version": 3
   },
   "file_extension": ".py",
   "mimetype": "text/x-python",
   "name": "python",
   "nbconvert_exporter": "python",
   "pygments_lexer": "ipython3",
   "version": "3.7.3"
  }
 },
 "nbformat": 4,
 "nbformat_minor": 2
}

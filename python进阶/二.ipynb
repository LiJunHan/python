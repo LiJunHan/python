{
 "cells": [
  {
   "cell_type": "markdown",
   "metadata": {},
   "source": [
    "### 建立由列表组成的列表"
   ]
  },
  {
   "cell_type": "markdown",
   "metadata": {},
   "source": [
    "在使用*要注意，可能生成的元素是指向同一个对象的，例如下面这个代码："
   ]
  },
  {
   "cell_type": "markdown",
   "metadata": {},
   "source": [
    "这个代码是错误的\n",
    "```\n",
    ">>> weird_board = [['_'] * 3] * 3  \n",
    ">>> weird_board [['_', '_', '_'], ['_', '_', '_'], ['_', '_', '_']] \n",
    ">>> weird_board[1][2] = 'O' \n",
    ">>> weird_board [['_', '_', 'O'], ['_', '_', 'O'], ['_', '_', 'O']]\n",
    "```\n",
    "这其实相当于：\n",
    "```\n",
    "row=['_'] * 3 \n",
    "board = [] \n",
    "for i in range(3):    \n",
    "    board.append(row)\n",
    "```"
   ]
  },
  {
   "cell_type": "markdown",
   "metadata": {},
   "source": [
    "可以采用列表表达式的方式进行，如以下代码所示："
   ]
  },
  {
   "cell_type": "markdown",
   "metadata": {},
   "source": [
    "```\n",
    ">>> board = [['_'] * 3 for i in range(3)]\n",
    ">>> board [['_', '_', '_'], ['_', '_', '_'], ['_', '_', '_']] \n",
    ">>> board[1][2] = 'X' \n",
    ">>> board [['_', '_', '_'], ['_', '_', 'X'], ['_', '_', '_']]\n",
    "```\n",
    "这相当于：\n",
    "```\n",
    ">>> board = [] \n",
    ">>> for i in range(3): \n",
    "...     row=['_'] * 3 \n",
    "...     board.append(row)\n",
    "```"
   ]
  },
  {
   "cell_type": "markdown",
   "metadata": {},
   "source": [
    "### 序列的增量赋值\n",
    "#### 先来看一下 += 和 不使用 += 对于被赋值的变量有什么影响"
   ]
  },
  {
   "cell_type": "code",
   "execution_count": 8,
   "metadata": {},
   "outputs": [
    {
     "name": "stdout",
     "output_type": "stream",
     "text": [
      "1969990813192\n",
      "1969990814984\n",
      "1969990054920\n"
     ]
    }
   ],
   "source": [
    "a = [1, 2, 3, 5]\n",
    "print(id(a))\n",
    "b = [13, 4, 5]\n",
    "print(id(b))\n",
    "a = a + b\n",
    "print(id(a))    # 从这里可以看出在可变序列中，使用a+b，python会将a和b加起来后新建出来的对象在赋值为a， a的内存地址改变了"
   ]
  },
  {
   "cell_type": "code",
   "execution_count": 13,
   "metadata": {},
   "outputs": [
    {
     "name": "stdout",
     "output_type": "stream",
     "text": [
      "1969990054536\n",
      "1969990811912\n",
      "1969990054536\n"
     ]
    }
   ],
   "source": [
    "a = [1, 2, 3, 5]\n",
    "print(id(a))\n",
    "b = [13, 4, 5]\n",
    "print(id(b))\n",
    "a += b\n",
    "print(id(a)) # 跟上面一样同样是采用了可变序列， 但是使用 += 并不会使得a的地址发生改变，也就是b是拼在了a的后面，相当于a.extend(b)"
   ]
  },
  {
   "cell_type": "code",
   "execution_count": 19,
   "metadata": {},
   "outputs": [
    {
     "name": "stdout",
     "output_type": "stream",
     "text": [
      "1969990036432\n",
      "1969989929288\n",
      "(1, 2, 3, 2, 3, 4)\n"
     ]
    }
   ],
   "source": [
    "a = (1,2,3)\n",
    "print(id(a))\n",
    "b = (2, 3, 4)\n",
    "a += b\n",
    "print(id(a))\n",
    "print(a)"
   ]
  },
  {
   "cell_type": "markdown",
   "metadata": {},
   "source": [
    "这种就地加法是因为内置的序列实现了`__iadd__()`方法，可变序列一般都支持这个方法，而退一步说如果内部没有实现系统会退一步实现`__add__()`,而对于元组来说，这种不可变序列根本不支持`__iadd__()`操作，所以会退而执行`__add__()`，所以我们看到当`a += b`后a的地址发生了变化。"
   ]
  },
  {
   "cell_type": "markdown",
   "metadata": {},
   "source": [
    "### python关于+=的谜题"
   ]
  },
  {
   "cell_type": "markdown",
   "metadata": {},
   "source": [
    "#### 思考一下下列代码的结果\n",
    "```\n",
    ">>> t = (1, 2, [30, 40]) \n",
    ">>> t[2] += [50, 60]\n",
    "```"
   ]
  },
  {
   "cell_type": "markdown",
   "metadata": {},
   "source": [
    "### list.sort方法和内置函数sorted的\n",
    "\n",
    "区别：\n",
    "- list.sort方法： 这个方法会就地排序列表，也就是这个方法不会将原列表进行拷贝，这也是这个方法返回值为None的原因。\n",
    "- sorted函数：与 list.sort 相反，它会新建一个列表作为返回值。\n",
    "相同点：\n",
    "\n",
    "###### 这俩个方法都含有两个可选的参数：\n",
    "- reverser： 这个参数如果被设定为true，被排序的序列会降序输出\n",
    "- key：一个只有一个参数的函数，这个函数会被用在序列里的每一个元素上，所产生的结果 将是排序算法依赖的对比关键字。\n"
   ]
  },
  {
   "cell_type": "markdown",
   "metadata": {},
   "source": [
    "### 用bisect模块来管理已排序的序列 \n",
    "\n",
    "- bisect 模块包含两个主要函数，bisect 和 insort，两个函数都利用二分查找算法来在 有序序列中查找或插入元素。\n",
    "- bisect(haystack, needle) haystack 是草堆的意思，needle是针的意思，意思是在草堆里找到针的位置，很显然这里的haystack指的是序列，而needle指的是要插入的数，也就是说这个方法返回的是适合这个数插入的index。\n",
    "- bisect函数其实是bisect_right函数，除此之外还有bisect_left。\n",
    "#### 下面这段代码很好的诠释了bisect函数的使用"
   ]
  },
  {
   "cell_type": "code",
   "execution_count": 22,
   "metadata": {},
   "outputs": [
    {
     "data": {
      "text/plain": [
       "['F', 'A', 'C', 'C', 'B', 'A', 'A']"
      ]
     },
     "execution_count": 22,
     "metadata": {},
     "output_type": "execute_result"
    }
   ],
   "source": [
    "import bisect\n",
    "\n",
    "def grade(score, breakpoints=[60, 70, 80, 90], grades='FDCBA'):\n",
    "    i = bisect.bisect(breakpoints, score)      \n",
    "    return grades[i]\n",
    "[grade(score) for score in [33, 99, 77, 70, 89, 90, 100]] "
   ]
  },
  {
   "cell_type": "markdown",
   "metadata": {},
   "source": [
    "#####  bisect.insort插入元素\n",
    "- 排序很耗时，因此在得到一个有序序列之后，我们最好能够保持它的有 序。bisect.insort 就是为了这个而存在的。\n",
    "insort(seq, item) 把变量 item 插入到序列 seq 中，并能保持 seq 的升序顺序。\n",
    "##### 下面这段代码简单的使用了insort函数"
   ]
  },
  {
   "cell_type": "code",
   "execution_count": 24,
   "metadata": {},
   "outputs": [
    {
     "name": "stdout",
     "output_type": "stream",
     "text": [
      "10 -> [10]\n",
      " 0 -> [0, 10]\n",
      " 6 -> [0, 6, 10]\n",
      " 8 -> [0, 6, 8, 10]\n",
      " 7 -> [0, 6, 7, 8, 10]\n",
      " 2 -> [0, 2, 6, 7, 8, 10]\n",
      "10 -> [0, 2, 6, 7, 8, 10, 10]\n"
     ]
    }
   ],
   "source": [
    "import random\n",
    "\n",
    "SIZE=7\n",
    "random.seed(1729)\n",
    "my_list = [] \n",
    "for i in range(SIZE):    \n",
    "    new_item = random.randrange(SIZE*2)    \n",
    "    bisect.insort(my_list, new_item)    \n",
    "    print('%2d ->' % new_item, my_list)"
   ]
  },
  {
   "cell_type": "markdown",
   "metadata": {},
   "source": [
    "### 除列表之外的其他序列\n",
    "- 面对各类需求的时候，除了列表，元组这俩中序列结果有时我们有更好的选择，例如数组（array），deque（队列），set(是无序列）。\n",
    "- array就像C语言中的数组一样，它只能存放单一数据，因此在使用时必须指定数组存放的数据类型，效率会比列表，元组这些高得多。\n",
    "- array.array(a, b)有俩个参数， a代表了数据的类型，b则代表数组中的内容。\n",
    "- 除了存放数据外，array还可以用来读取存放文件。\n",
    "下面的代码诠释了array的使用"
   ]
  },
  {
   "cell_type": "code",
   "execution_count": 26,
   "metadata": {},
   "outputs": [
    {
     "data": {
      "text/plain": [
       "0.1288579230853678"
      ]
     },
     "execution_count": 26,
     "metadata": {},
     "output_type": "execute_result"
    }
   ],
   "source": [
    "from array import array  \n",
    "from random import random \n",
    "floats = array('d', (random() for i in range(10**7)))  \n",
    "floats[-1]"
   ]
  },
  {
   "cell_type": "code",
   "execution_count": 28,
   "metadata": {},
   "outputs": [
    {
     "data": {
      "text/plain": [
       "0.1288579230853678"
      ]
     },
     "execution_count": 28,
     "metadata": {},
     "output_type": "execute_result"
    }
   ],
   "source": [
    "fp = open('floats.bin', 'wb') \n",
    "floats.tofile(fp)  \n",
    "fp.close() \n",
    "floats2 = array('d')  \n",
    "fp = open('floats.bin', 'rb') \n",
    "floats2.fromfile(fp, 10**7)  \n",
    "fp.close() \n",
    "floats2[-1] "
   ]
  },
  {
   "cell_type": "markdown",
   "metadata": {},
   "source": [
    "- 数组同样支持.pop .insert .extend 等方法\n",
    "- 用 array.fromfile 从一个二进制文件里读出 1000 万个双精度浮点数只需要 0.1 秒，这比从文本文件里读取 的速度要快 60 倍，因为后者会使用内置的 float 方法把每一行文字转换成浮点数。"
   ]
  },
  {
   "cell_type": "markdown",
   "metadata": {},
   "source": [
    "### 内存视图\n",
    "- memoryview 是一个内置类，它能让用户在不复制内容的情况下操作同一个数组的不同切片。\n"
   ]
  },
  {
   "cell_type": "markdown",
   "metadata": {},
   "source": [
    "### 队列\n",
    "利用.append()和.pop()方法可以模拟队列将列表当作队列来用，但是删除排在第一位的元素对列表来说是相当耗时的，因为由于列表的特性，这势必会牵涉到列表其它元素。</br>\n",
    "<br>collections.deque类是一个线程安全、可以快速从队列俩段添加或者删除元素的数据类型。</br>\n",
    "<br>**下面这段代码展示了deque的基本用法：**</br>"
   ]
  },
  {
   "cell_type": "markdown",
   "metadata": {},
   "source": [
    "```\n",
    ">>> from collections import deque\n",
    ">>> dq = deque(range(10), maxlen=10)  \n",
    ">>> dq deque([0, 1, 2, 3, 4, 5, 6, 7, 8, 9], maxlen=10) \n",
    ">>> dq.rotate(3)   \n",
    ">>> dq deque([7, 8, 9, 0, 1, 2, 3, 4, 5, 6], maxlen=10) \n",
    ">>> dq.rotate(-4) >>> dq deque([1, 2, 3, 4, 5, 6, 7, 8, 9, 0], maxlen=10) \n",
    ">>> dq.appendleft(-1)  \n",
    ">>> dq deque([-1, 1, 2, 3, 4, 5, 6, 7, 8, 9], maxlen=10) \n",
    ">>> dq.extend([11, 22, 33])   \n",
    ">>> dq deque([3, 4, 5, 6, 7, 8, 9, 11, 22, 33], maxlen=10) \n",
    ">>> dq.extendleft([10, 20, 30, 40])   \n",
    ">>> dq deque([40, 30, 20, 10, 3, 4, 5, 6, 7, 8], maxlen=10)\n",
    "```"
   ]
  },
  {
   "cell_type": "markdown",
   "metadata": {},
   "source": [
    "### 扁平序列和容器序列\n",
    "\n",
    "**有些对象里包含对其他对象的引用；这些对象称为容器。**\n",
    "**扁平序列因为只能包含原子数据类型，比如整数、浮点数或字符，所以 不能嵌套使用。**"
   ]
  },
  {
   "cell_type": "markdown",
   "metadata": {},
   "source": [
    "### 混合类型列表\n",
    "<br> Python 入门教材往往会强调列表是可以同时容纳不同类型的元素的，但是实际上这样 做并没有什么特别的好处。</br>\n",
    "<br> 在 Python 3 中，如果列表里的东西不能比较大小，那么我们就不能对列表进行排序。</br>\n",
    "<br> 元组则恰恰相反，它经常用来存放不同类型的的元素。这也符合它的本质，元组就是 用作存放彼此之间没有关系的数据的记录。</br>"
   ]
  }
 ],
 "metadata": {
  "kernelspec": {
   "display_name": "Python 3",
   "language": "python",
   "name": "python3"
  },
  "language_info": {
   "codemirror_mode": {
    "name": "ipython",
    "version": 3
   },
   "file_extension": ".py",
   "mimetype": "text/x-python",
   "name": "python",
   "nbconvert_exporter": "python",
   "pygments_lexer": "ipython3",
   "version": "3.7.3"
  }
 },
 "nbformat": 4,
 "nbformat_minor": 2
}

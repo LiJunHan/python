{
 "cells": [
  {
   "cell_type": "markdown",
   "metadata": {},
   "source": [
    "### 建立由列表组成的列表"
   ]
  },
  {
   "cell_type": "markdown",
   "metadata": {},
   "source": [
    "在使用*要注意，可能生成的元素是指向同一个对象的，例如下面这个代码："
   ]
  },
  {
   "cell_type": "markdown",
   "metadata": {},
   "source": [
    "**这个代码是错误的**\n",
    "```\n",
    ">>> weird_board = [['_'] * 3] * 3  \n",
    ">>> weird_board [['_', '_', '_'], ['_', '_', '_'], ['_', '_', '_']] \n",
    ">>> weird_board[1][2] = 'O' \n",
    ">>> weird_board [['_', '_', 'O'], ['_', '_', 'O'], ['_', '_', 'O']]\n",
    "```\n",
    "**这其实相当于**：\n",
    "```\n",
    "row=['_'] * 3 \n",
    "board = [] \n",
    "for i in range(3):    \n",
    "    board.append(row)\n",
    "```"
   ]
  },
  {
   "cell_type": "code",
   "execution_count": null,
   "metadata": {},
   "outputs": [],
   "source": [
    "可以采用列表表达式的方式进行，如以下代码所示："
   ]
  },
  {
   "cell_type": "markdown",
   "metadata": {},
   "source": [
    "```\n",
    ">>> board = [['_'] * 3 for i in range(3)]\n",
    ">>> board [['_', '_', '_'], ['_', '_', '_'], ['_', '_', '_']] \n",
    ">>> board[1][2] = 'X' \n",
    ">>> board [['_', '_', '_'], ['_', '_', 'X'], ['_', '_', '_']]\n",
    "```\n",
    "这相当于：\n",
    "```\n",
    ">>> board = [] \n",
    ">>> for i in range(3): \n",
    "...     row=['_'] * 3 # ➊ \n",
    "...     board.append(row)\n",
    "```"
   ]
  },
  {
   "cell_type": "code",
   "execution_count": null,
   "metadata": {},
   "outputs": [],
   "source": []
  }
 ],
 "metadata": {
  "kernelspec": {
   "display_name": "Python 3",
   "language": "python",
   "name": "python3"
  },
  "language_info": {
   "codemirror_mode": {
    "name": "ipython",
    "version": 3
   },
   "file_extension": ".py",
   "mimetype": "text/x-python",
   "name": "python",
   "nbconvert_exporter": "python",
   "pygments_lexer": "ipython3",
   "version": "3.7.3"
  }
 },
 "nbformat": 4,
 "nbformat_minor": 2
}

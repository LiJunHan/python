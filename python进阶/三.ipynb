{
 "cells": [
  {
   "cell_type": "code",
   "execution_count": 7,
   "metadata": {},
   "outputs": [
    {
     "name": "stdout",
     "output_type": "stream",
     "text": [
      "2238288751352\n",
      "2238288921800\n",
      "2238288752504\n",
      "2238288751280\n",
      "2238288750560\n"
     ]
    },
    {
     "data": {
      "text/plain": [
       "True"
      ]
     },
     "execution_count": 7,
     "metadata": {},
     "output_type": "execute_result"
    }
   ],
   "source": [
    "a = dict(one=1, two=2, three=3) \n",
    "b = {'one': 1, 'two': 2, 'three': 3} \n",
    "c = dict(zip(['one', 'two', 'three'], [1, 2, 3])) \n",
    "d = dict([('two', 2), ('one', 1), ('three', 3)]) \n",
    "e = dict({'three': 3, 'one': 1, 'two': 2})\n",
    "\n",
    "print(id(a))\n",
    "print(id(b))\n",
    "print(id(c))\n",
    "print(id(d))\n",
    "print(id(e))\n",
    "a == b == c == d == e"
   ]
  },
  {
   "cell_type": "markdown",
   "metadata": {},
   "source": [
    "# 泛映射类型"
   ]
  },
  {
   "cell_type": "markdown",
   "metadata": {},
   "source": [
    "<br>标准库里的所有映射类型都是利用 dict 来实现的，因此它们有个共同的限制，即只有可 散列的数据类型才能用作这些映射里的键（只有键有这个要求，值并不需要是可散列的数据类型）。</br>\n",
    "<br>可散列的数据类型：关于可散列的数据类型的定义有这样的一段话，\n",
    "><br>如果一个对象是可散列的，那么在这个对象的生命周期中，它的散列值是不变 的，而且这个对象需要实现 __hash__() 方法。另外可散列对象还要有 __qe__() 方法，这样才能跟其他键做比较。如果两个可散列对象是相等的，那么它们的散列值一定是一样的……</br>\n",
    "\n",
    "<br>原子不可变的数据类型(str、bytes和数值类型）都是可散列类型，frozenset也是可散列的，而元组，只有当元组所包含的所有元素都是可散列的时候，它才是可散列的。</br>\n",
    "\n",
    "**下面一个例子证明了元组确实只有当它的全部元素是可散列的它才是可散列的**"
   ]
  },
  {
   "cell_type": "markdown",
   "metadata": {},
   "source": [
    "```\n",
    ">>> tt = (1, 2, (30, 40)) \n",
    ">>> hash(tt) 8027212646858338501 \n",
    ">>> tl = (1, 2, [30, 40]) \n",
    ">>> hash(tl) Traceback (most recent call last):  File \"<stdin>\", line 1, in <module> TypeError: unhashable type: 'list' \n",
    ">>> tf = (1, 2, frozenset([30, 40])) \n",
    ">>> hash(tf) \n",
    "-4118419923444501110\n",
    "```"
   ]
  },
  {
   "cell_type": "markdown",
   "metadata": {},
   "source": [
    "**注意：说“Python 里所有的不可 变类型都是可散列的”。这个说法其实是不准确的，比如虽然元组本身是不可变序 列，它里面的元素可能是其他可变类型的引用。**"
   ]
  },
  {
   "cell_type": "markdown",
   "metadata": {},
   "source": [
    "# 字典的推导\n",
    "\n",
    "**下面是一个简单的代码展示了字典中推导式的使用**"
   ]
  },
  {
   "cell_type": "markdown",
   "metadata": {},
   "source": [
    "```\n",
    ">>> DIAL_CODES = [                 \n",
    "...         (86, 'China'), \n",
    "...         (91, 'India'), \n",
    "...         (1, 'United States'), \n",
    "...         (62, 'Indonesia'), \n",
    "...         (55, 'Brazil'), \n",
    "...         (92, 'Pakistan'), \n",
    "...         (880, 'Bangladesh'), \n",
    "...         (234, 'Nigeria'), \n",
    "...         (7, 'Russia'), \n",
    "...         (81, 'Japan'), \n",
    "...     ] \n",
    ">>> country_code = {country: code for code, country in DIAL_CODES}   \n",
    ">>> country_code {'China': 86, 'India': 91, 'Bangladesh': 880, 'United States': 1, 'Pakistan': 92, 'Japan': 81, 'Russia': 7, 'Brazil': 55, 'Nigeria': 234, 'Indonesia': 62} \n",
    ">>> {code: country.upper() for country, code in country_code.items()   \n",
    "...   if code < 66} \n",
    "{1: 'UNITED STATES', 55: 'BRAZIL', 62: 'INDONESIA', 7: 'RUSSIA'}\n",
    "```"
   ]
  },
  {
   "cell_type": "markdown",
   "metadata": {},
   "source": [
    "# 在字典中使用setdefault方法(它处理找不到的键)\n",
    "\n",
    "<br>当字典 d[k] 不能找到正确的键的时候，Python 会抛出异常，这个行为符合 Python 所信奉 的“快速失败”哲学。也许每个 Python 程序员都知道可以用 d.get(k, default) 来代替 d[k]，给找不到的键一个默认的返回值（这比处理 KeyError 要方便不少）。但是要更 新某个键对应的值的时候，不管使用 __getitem__ 还是 get 都会不自然，而且效率低。 </br>\n",
    "<br>以下俩中代码起到的效果是一样的</br>"
   ]
  },
  {
   "cell_type": "markdown",
   "metadata": {},
   "source": [
    "`my_dict.setdefault(key, []).append(new_value)`"
   ]
  },
  {
   "cell_type": "markdown",
   "metadata": {},
   "source": [
    "```\n",
    "if key not in my_dict:    \n",
    "    my_dict[key] = [] \n",
    "    my_dict[key].append(new_value)\n",
    "``` "
   ]
  },
  {
   "cell_type": "markdown",
   "metadata": {},
   "source": [
    "**虽然上面俩对代码所起的效果是一样的，但是显然第一种的效率更高，因为后者至少要进行俩次键查询（而如果不存在则要进行三次），而用setdefault不管原来的字典是什么情况都只要一次就够了**\n",
    "\n",
    "<br> setdefault的工作原理：先查找键值，找不到则将一个空列放入其中返回，如果找得到的话直接返回键值 </br>"
   ]
  },
  {
   "cell_type": "markdown",
   "metadata": {},
   "source": [
    "# 映射的弹性键查询\n",
    "<br> 有时候为了方便起见，就算某个键在映射里不存在，我们也希望在通过这个键读取值的时 候能得到一个默认值。</br>\n",
    "\n",
    "<br> 有两个途径能帮我们达到这个目的</br>\n",
    "1. 是通过 defaultdict 这 个类型而不是普通的 dict。\n",
    "2. 自己定义一个 dict 的子类，然后在子类中实现 __missing__ 方法。\n",
    "\n",
    "### defaultdict：处理找不到的键的一个选择 \n",
    "<br> 在用户创建 defaultdict 对象的时候，就需要给它配置一个为找不到的键创造默认值的方法。</br>\n",
    "<br> 具体而言，在实例化一个 defaultdict 的时候，需要给构造方法提供一个可调用对象， 这个可调用对象会在 __getitem__ 碰到找不到的键的时候被调用，让 __getitem__ 返 回某种默认值。</br>\n",
    "<br>比如，我们新建了这样一个字典：dd = defaultdict(list)，如果键 'new-key' 在 dd 中还不存在的话，表达式 dd['new-key'] 会按照以下的步骤来行事。 </br>\n",
    "1. 调用 list() 来建立一个新列表。 \n",
    "2. 把这个新列表作为值，'new-key' 作为它的键，放到 dd 中。\n",
    "3. 返回这个列表的引用。\n",
    "\n",
    "**用来生成默认值的可调用对象存放在名为 default_factory 的实例属性里。**\n",
    "<br> **注意：defaultdict 里的 default_factory 只会在 __getitem__ 里被调用，在 其他的方法里完全不会发挥作用。比如，dd 是个 defaultdict，k 是个找不到的 键， dd[k] 这个表达式会调用 default_factory 创造某个默认值，而 dd.get(k) 则会返回 None。**</br>\n",
    "\n",
    "### 特殊方法__missing__ \n",
    "<br> __miss__只会被__getitem__调用，这点和defaultdict中的default_factory只对__getitem__有作用一样，对于get或者__contains__这些方法的使用没有影响</br>\n",
    "<br>这里是一种自定义的字典类型，这种字典会在键查不到的时候将它转换为字符串，下面的代码是演示了这种字典的效果</br>\n",
    "```\n",
    ">>> d = StrKeyDict0([('2', 'two'), ('4', 'four')])    \n",
    ">>> d['2']    \n",
    "'two'    \n",
    ">>> d[4]    \n",
    "'four'    \n",
    ">>> d[1]    \n",
    "Traceback (most recent call last):      \n",
    "                        ...    KeyError: '1'\n",
    "\n",
    ">>> d.get('2')    \n",
    "'two'    \n",
    ">>> d.get(4)    \n",
    "'four'    \n",
    ">>> d.get(1, 'N/A')    \n",
    "'N/A'\n",
    "\n",
    ">>> 2 in d    \n",
    "True    \n",
    ">>> 1 in d    \n",
    "False\n",
    "```\n",
    "下面是StrKeyDict这个类的实现：\n",
    "```\n",
    "class StrKeyDict0(dict):  \n",
    "    def __missing__(self, key):        \n",
    "        if isinstance(key, str):              \n",
    "            raise KeyError(key)        \n",
    "        return self[str(key)]\n",
    "        \n",
    "def get(self, key, default=None):        \n",
    "    try:            \n",
    "        return self[key]   \n",
    "    except KeyError:        \n",
    "        return default  \n",
    "        \n",
    "def __contains__(self, key):    \n",
    "    return key in self.keys() or str(key) in self.keys()  \n",
    "```\n",
    "**isinstance(key, str) 测试在上面的 __missing__ 中是必需的。**\n",
    "<br>如果没有这个测试，只要 str(k) 返回的是一个存在的键，那么 __missing__ 方法是没 问题的，不管是字符串键还是非字符串键，它都能正常运行。但是如果 str(k) 不是一个 存在的键，代码就会陷入无限递归。这是因为 __missing__ 的最后一行中的 self[str(key)] 会调用 __getitem__，而这个 str(key) 又不存在，于是 __missing__ 又会被调用。 </br>\n"
   ]
  },
  {
   "cell_type": "markdown",
   "metadata": {},
   "source": [
    "# 字典的变种\n",
    "<br>这一节总结了标准库里 collections 模块中，除了 defaultdict 之外的不同映射类型。</br>\n",
    "- **collections.OrderedDict**: \n",
    "<br>这个类型在添加键的时候会保持顺序，因此键的迭代次序总是一致 的。OrderedDict 的 popitem 方法默认删除并返回的是字典里的最后一个元素，但是如 果像 my_odict.popitem(last=False) 这样调用它，那么它删除并返回第一个被添加进去的元素。</br>\n",
    "- **collections.ChainMap**：\n",
    "<br>没看懂！！！</br>\n",
    "- **collections.Counter**：\n",
    "<br>这个映射类型会给键准备一个整数计数器。每次更新一个键的时候都会增加这个计数 器。所以这个类型可以用来给可散列表对象计数，或者是当成多重集来用——多重集合就 是集合里的元素可以出现不止一次。Counter 实现了 + 和 - 运算符用来合并记录，还有 像 most_common([n]) 这类很有用的方法。most_common([n]) 会按照次序返回映射里 最常见的 n 个键和它们的计数。</br>\n",
    "```\n",
    ">>> ct = collections.Counter('abracadabra') \n",
    ">>> ct Counter({'a': 5, 'b': 2, 'r': 2, 'c': 1, 'd': 1}) \n",
    ">>> ct.update('aaaaazzz') \n",
    ">>> ct \n",
    "Counter({'a': 10, 'z': 3, 'b': 2, 'r': 2, 'c': 1, 'd': 1}) \n",
    ">>> ct.most_common(2) \n",
    "[('a', 10), ('z', 3)]\n",
    "```\n",
    "\n",
    "- **collections.UserDict**: 给用户进行定义的。"
   ]
  },
  {
   "cell_type": "markdown",
   "metadata": {},
   "source": [
    "# 子类化UserDict\n",
    "<br>就创造自定义映射类型来说，以 UserDict 为基类，总比以普通的 dict 为基类要来得方 便。</br>\n",
    "<br> 从 UserDict 而不是从 dict 继承的主要原因是，后者有时会在某些方法的实 现上走一些捷径，导致我们不得不在它的子类中重写这些方法，但是 UserDict 就不会带 来这些问题。</br>"
   ]
  },
  {
   "cell_type": "markdown",
   "metadata": {},
   "source": [
    "# 不可变映射的类型\n",
    "<br>标准库里所有的映射类型都是可变的，有时候你有这样的需求，比如不能让用户错误地修改某个映射。</br>\n",
    "<br>types 模块中引入了一个封装类名叫 MappingProxyType。如果给这 个类一个映射，它会返回一个只读的映射视图。虽然是个只读视图，但是它是动态的。这意味着如果对原映射做出了改动，我们通过这个视图可以观察到，但是无法通过这个视图 对原映射做出修改。</br>\n",
    "\n",
    "<br>**下面的代码简单的演示了MappingProxyType的用法：**</br>\n",
    "```\n",
    ">>> from types import MappingProxyType \n",
    ">>> d = {1:'A'} \n",
    ">>> d_proxy = MappingProxyType(d) \n",
    ">>> d_proxy mappingproxy({1: 'A'}) \n",
    ">>> d_proxy[1]  \n",
    "'A' \n",
    ">>> d_proxy[2] = 'x'   \n",
    "Traceback (most recent call last):  \n",
    "    File \"<stdin>\", line 1, in <module> TypeError: 'mappingproxy' object does not support item assignment \n",
    ">>> d[2] = 'B' \n",
    ">>> d_proxy   \n",
    "mappingproxy({1: 'A', 2: 'B'}) \n",
    ">>> d_proxy[2] \n",
    "'B'\n",
    "```"
   ]
  },
  {
   "cell_type": "markdown",
   "metadata": {},
   "source": [
    "# 集合\n",
    "\n",
    "<br> 集合中的元素必须是可散列的，set 类型本身是不可散列的，但是 frozenset 可以。因 此可以创建一个包含不同 frozenset 的 set。 </br>\n",
    "\n",
    "<br> 除了保证唯一性，集合还实现了很多基础的中缀运算符。给定两个集合 a 和 b，a | b 返 回的是它们的合集，a & b 得到的是交集，而 a - b 得到的是差集。合理地利用这些操 作，不仅能够让代码的行数变少，还能减少 Python 程序的运行时间。</br>\n",
    "\n",
    "<br>集合的语法陷阱：除空集之外，集合的字面量——{1}、{1, 2}，等等——看起来跟它的数学形式一模一 样。如果是空集，那么必须写成 set() 的形式。\n",
    "不要忘了，如果要创建一个空集，你必须用不带任何参数的构造方法 set()。如果只 是写成 {} 的形式，跟以前一样，你创建的其实是个空字典。 </br>\n",
    "\n",
    "<br> 像 {1, 2, 3} 这种字面量句法相比于构造方法（set([1, 2, 3])）要更快且更易读。 后者的速度要慢一些，因为 Python 必须先从 set 这个名字来查询构造方法，然后新建一 个列表，最后再把这个列表传入到构造方法里。</br>\n",
    "\n",
    "<br>**frozenset的创建方式：</br>\n",
    "```\n",
    ">>> frozenset(range(10)) \n",
    "frozenset({0, 1, 2, 3, 4, 5, 6, 7, 8, 9})\n",
    "```\n",
    "### 集合推导 \n",
    "<br> 集合推导跟列表推导的差别不大</br>"
   ]
  },
  {
   "cell_type": "markdown",
   "metadata": {},
   "source": [
    "# dict和set\n",
    "<br> 字典和集合的速度是非常快的。</br>\n",
    "\n",
    "## 字典中的散列表\n",
    "散列表其实是一个稀疏数组（总是有空白元素的数组称为稀疏数组）。\n",
    "<br>**注意：因为 Python 会设法保证大概还有三分之一的表元是空的，所以在快要达到这个阈值的时 候，原有的散列表会被复制到一个更大的空间里面。**</br>\n",
    "\n",
    "1. 散列值和相等性:\n",
    "<br>内置的 hash() 方法可以用于所有的内置类型对象。如果是自定义对象调用 hash() 的话，实际上运行的是自定义的__hash__。如果两个对象在比较的时候是相等的， 那它们的散列值必须相等，否则散列表就不能正常运行了。例如，如果 1 == 1.0 为真，那么 hash(1) == hash(1.0) 也必须为真，但其实这两个数字（整型和浮点） 的内部结构是完全不一样的。</br>\n",
    "\n",
    "2. 散列表算法:\n",
    "\n",
    "![avatar]\n",
    "(C:\\Users\\86155\\Desktop\\截图\\批注 2019-10-23 144313.png)\n"
   ]
  },
  {
   "cell_type": "code",
   "execution_count": 18,
   "metadata": {},
   "outputs": [
    {
     "data": {
      "text/plain": [
       "<matplotlib.image.AxesImage at 0x20928b8ac18>"
      ]
     },
     "execution_count": 18,
     "metadata": {},
     "output_type": "execute_result"
    },
    {
     "data": {
      "image/png": "[encoded data removed]",
      "text/plain": [
       "<Figure size 432x288 with 1 Axes>"
      ]
     },
     "metadata": {
      "needs_background": "light"
     },
     "output_type": "display_data"
    }
   ],
   "source": [
    "import matplotlib.pyplot as plt\n",
    "import matplotlib.image as mpimg\n",
    "import numpy as np\n",
    "\n",
    "\n",
    "lena = mpimg.imread(r'批注 2019-10-23 144313.png')\n",
    "plt.imshow(lena)"
   ]
  },
  {
   "cell_type": "markdown",
   "metadata": {},
   "source": [
    "<br>**在插入新值时，Python 可能会按照散列表的拥挤程度来决定是否要重新分配内存 为它扩容。**</br>\n",
    "## 　dict的实现及其导致的结果 \n",
    "\n",
    "1. 键必须是可散列的\n",
    "一个可散列的对象必须满足以下要求。\n",
    "    1. 支持 hash() 函数，并且通过 __hash__() 方法所得到的散列值是不变的。 \n",
    "    2. 支持通过 __eq__() 方法来检测相等性。 \n",
    "    3. 若 a == b 为真，则 hash(a) == hash(b) 也为真。 \n",
    "所有由用户自定义的对象默认都是可散列的，因为它们的散列值由 id() 来获取，而 且它们都是不相等的。\n",
    "2. 字典在内存上的开销巨大\n",
    "<br> 由于字典使用了散列表，而散列表又必须是稀疏的，这导致它在空间上的效率低下。</br>\n",
    "3. 键查询很快 \n",
    "<br> dict 的实现是典型的空间换时间</br>\n",
    "4.  键的次序取决于添加顺序\n",
    "<br>当往 dict 里添加新键而又发生散列冲突的时候，新键可能会被安排存放到另一个位 置。于是下面这种情况就会发生：由 dict([key1, value1), (key2, value2)] 和 dict([key2, value2], [key1, value1]) 得到的两个字典，在进行比较的时 候，它们是相等的；但是如果在 key1 和 key2 被添加到字典里的过程中有冲突发生 的话，这两个键出现在字典里的顺序是不一样的。</br>\n",
    "5. 往字典里添加新键可能会改变已有键的顺序 \n",
    "<br>无论何时往字典里添加新的键，Python 解释器都可能做出为字典扩容的决定。扩容导 致的结果就是要新建一个更大的散列表，并把字典里已有的元素添加到新表里。这个 过程中可能会发生新的散列冲突，导致新散列表中键的次序变化。</br>\n",
    "<br>如果你在迭代一个字典的所有键的过程中同 时对字典进行修改，那么这个循环很有可能会跳过一些键——甚至是跳过那些字典中 已经有的键。\n",
    "由此可知，不要对字典同时进行迭代和修改。</br>\n",
    "\n",
    "##  set的实现以及导致的结果\n",
    "set 和 frozenset 的实现也依赖散列表，但在它们的散列表里存放的只有元素的引用 （就像在字典里只存放键而没有相应的值）。"
   ]
  },
  {
   "cell_type": "markdown",
   "metadata": {},
   "source": [
    "# 集合、散列表和字典的特点\n",
    "\n",
    "- 集合里的元素必须是可散列的。\n"
   ]
  }
 ],
 "metadata": {
  "kernelspec": {
   "display_name": "Python 3",
   "language": "python",
   "name": "python3"
  },
  "language_info": {
   "codemirror_mode": {
    "name": "ipython",
    "version": 3
   },
   "file_extension": ".py",
   "mimetype": "text/x-python",
   "name": "python",
   "nbconvert_exporter": "python",
   "pygments_lexer": "ipython3",
   "version": "3.7.3"
  }
 },
 "nbformat": 4,
 "nbformat_minor": 2
}

{
 "cells": [
  {
   "cell_type": "code",
   "execution_count": 7,
   "metadata": {},
   "outputs": [
    {
     "name": "stdout",
     "output_type": "stream",
     "text": [
      "2238288751352\n",
      "2238288921800\n",
      "2238288752504\n",
      "2238288751280\n",
      "2238288750560\n"
     ]
    },
    {
     "data": {
      "text/plain": [
       "True"
      ]
     },
     "execution_count": 7,
     "metadata": {},
     "output_type": "execute_result"
    }
   ],
   "source": [
    "a = dict(one=1, two=2, three=3) \n",
    "b = {'one': 1, 'two': 2, 'three': 3} \n",
    "c = dict(zip(['one', 'two', 'three'], [1, 2, 3])) \n",
    "d = dict([('two', 2), ('one', 1), ('three', 3)]) \n",
    "e = dict({'three': 3, 'one': 1, 'two': 2})\n",
    "\n",
    "print(id(a))\n",
    "print(id(b))\n",
    "print(id(c))\n",
    "print(id(d))\n",
    "print(id(e))\n",
    "a == b == c == d == e"
   ]
  },
  {
   "cell_type": "markdown",
   "metadata": {},
   "source": [
    "## 字典的推导\n",
    "\n",
    "**下面是一个简单的代码展示了字典中推导式的使用**"
   ]
  },
  {
   "cell_type": "markdown",
   "metadata": {},
   "source": [
    "```\n",
    ">>> DIAL_CODES = [                 \n",
    "...         (86, 'China'), \n",
    "...         (91, 'India'), \n",
    "...         (1, 'United States'), \n",
    "...         (62, 'Indonesia'), \n",
    "...         (55, 'Brazil'), \n",
    "...         (92, 'Pakistan'), \n",
    "...         (880, 'Bangladesh'), \n",
    "...         (234, 'Nigeria'), \n",
    "...         (7, 'Russia'), \n",
    "...         (81, 'Japan'), \n",
    "...     ] \n",
    ">>> country_code = {country: code for code, country in DIAL_CODES}   \n",
    ">>> country_code {'China': 86, 'India': 91, 'Bangladesh': 880, 'United States': 1, 'Pakistan': 92, 'Japan': 81, 'Russia': 7, 'Brazil': 55, 'Nigeria': 234, 'Indonesia': 62} \n",
    ">>> {code: country.upper() for country, code in country_code.items()   \n",
    "...   if code < 66} \n",
    "{1: 'UNITED STATES', 55: 'BRAZIL', 62: 'INDONESIA', 7: 'RUSSIA'}\n",
    "```"
   ]
  },
  {
   "cell_type": "markdown",
   "metadata": {},
   "source": [
    "#### 在字典中使用setdefault方法(它处理找不到的键)\n",
    "\n",
    "<br>当字典 d[k] 不能找到正确的键的时候，Python 会抛出异常，这个行为符合 Python 所信奉 的“快速失败”哲学。也许每个 Python 程序员都知道可以用 d.get(k, default) 来代替 d[k]，给找不到的键一个默认的返回值（这比处理 KeyError 要方便不少）。但是要更 新某个键对应的值的时候，不管使用 __getitem__ 还是 get 都会不自然，而且效率低。 </br>\n",
    "<br>以下俩中代码起到的效果是一样的</br>"
   ]
  },
  {
   "cell_type": "markdown",
   "metadata": {},
   "source": [
    "`my_dict.setdefault(key, []).append(new_value)`"
   ]
  },
  {
   "cell_type": "markdown",
   "metadata": {},
   "source": [
    "```\n",
    "if key not in my_dict:    \n",
    "    my_dict[key] = [] \n",
    "    my_dict[key].append(new_value)\n",
    "``` "
   ]
  },
  {
   "cell_type": "markdown",
   "metadata": {},
   "source": [
    "**虽然上面俩对代码所起的效果是一样的，但是显然第一种的效率更高，因为后者至少要进行俩次键查询（而如果不存在则要进行三次），而用setdefault不管原来的字典是什么情况都只要一次就够了**\n",
    "\n",
    "<br> setdefault的工作原理：先查找键值，找不到则将一个空列放入其中返回，如果找得到的话直接返回键值 </br>\n"
   ]
  }
 ],
 "metadata": {
  "kernelspec": {
   "display_name": "Python 3",
   "language": "python",
   "name": "python3"
  },
  "language_info": {
   "codemirror_mode": {
    "name": "ipython",
    "version": 3
   },
   "file_extension": ".py",
   "mimetype": "text/x-python",
   "name": "python",
   "nbconvert_exporter": "python",
   "pygments_lexer": "ipython3",
   "version": "3.7.3"
  }
 },
 "nbformat": 4,
 "nbformat_minor": 2
}
